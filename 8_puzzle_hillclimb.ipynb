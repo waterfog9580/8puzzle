{
  "nbformat": 4,
  "nbformat_minor": 0,
  "metadata": {
    "colab": {
      "name": "8-puzzle_hillclimb.ipynb",
      "provenance": [],
      "collapsed_sections": [],
      "authorship_tag": "ABX9TyOVb79aMSePsOyxZ5NbzM61",
      "include_colab_link": true
    },
    "kernelspec": {
      "name": "python3",
      "display_name": "Python 3"
    }
  },
  "cells": [
    {
      "cell_type": "markdown",
      "metadata": {
        "id": "view-in-github",
        "colab_type": "text"
      },
      "source": [
        "<a href=\"https://colab.research.google.com/github/waterfog9580/8puzzle/blob/master/8_puzzle_hillclimb.ipynb\" target=\"_parent\"><img src=\"https://colab.research.google.com/assets/colab-badge.svg\" alt=\"Open In Colab\"/></a>"
      ]
    },
    {
      "cell_type": "code",
      "metadata": {
        "id": "ugUUvc2ok-l4"
      },
      "source": [
        "# 상태를 나타내는 클래스, f(n) 값을 저장한다. \n",
        "class State:\n",
        "  def __init__(self, board, goal, moves=0):\n",
        "    self.board = board\n",
        "    self.moves = moves\n",
        "    self.goal = goal\n",
        "\n",
        "  # i1과 i2를 교환하여서 새로운 상태를 반환한다. \n",
        "  def get_new_board(self, i1, i2, moves):\n",
        "    new_board = self.board[:]\n",
        "    new_board[i1], new_board[i2] = new_board[i2], new_board[i1]\n",
        "    return State(new_board, self.goal, moves)\n",
        " # 자식 노드를 확장하여서 리스트에 저장하여서 반환한다. \n",
        "  def expand(self, moves):\n",
        "    result = []\n",
        "    i = self.board.index(0)\t\t# 숫자 0(빈칸)의 위치를 찾는다. \n",
        "    if not i in [0, 1, 2] :\t\t# UP 연산자 \n",
        "      result.append(self.get_new_board(i, i-3, moves))\n",
        "    if not i in [0, 3, 6] :\t\t# LEFT 연산자 \n",
        "      result.append(self.get_new_board(i, i-1, moves))\n",
        "    if not i in [2, 5, 8]:\t\t# DOWN 연산자 \n",
        "      result.append(self.get_new_board(i, i+1, moves))\n",
        "    if not i in [6, 7, 8]:\t\t# RIGHT 연산자 \n",
        "      result.append(self.get_new_board(i, i+3, moves))\n",
        "    return result\n",
        "    \n",
        "  # 휴리스틱 함수 값인 h(n)을 계산하여 반환한다. \n",
        "  # 현재 제 위치에 있지 않은 타일의 개수를 리스트 함축으로 계산한다. \n",
        "  def h(self):\n",
        "    return sum([1 if self.board[i] != self.goal[i] else 0 for i in range(8)])\n",
        "\n",
        "  # 상태와 상태를 비교하기 위하여 less than 연산자를 정의한다. \n",
        "  def __lt__(self, other):\n",
        "    return self.h() < other.h()\n",
        "\n",
        " # 객체를 출력할 때 사용한다. \n",
        "  def __str__(self):\n",
        "    return \"------------------ h(n)=\" + str(self.h()) +\"\\n\"+\\\n",
        "    str(self.board[:3]) +\"\\n\"+\\\n",
        "    str(self.board[3:6]) +\"\\n\"+\\\n",
        "    str(self.board[6:]) +\"\\n\"+\\\n",
        "    \"------------------\""
      ],
      "execution_count": 11,
      "outputs": []
    },
    {
      "cell_type": "code",
      "metadata": {
        "id": "2Q29b0IXyfwy"
      },
      "source": [
        "# 초기 상태\n",
        "puzzle = [1, 4, 3,\n",
        "          2, 0, 6,\n",
        "          7, 5, 8]\n",
        "# 목표 상태\n",
        "goal = [1, 2, 3, \n",
        "        4, 5, 6, \n",
        "        7, 8, 0]"
      ],
      "execution_count": 16,
      "outputs": []
    },
    {
      "cell_type": "code",
      "metadata": {
        "id": "BJITL7LMzzk-",
        "outputId": "cb491a91-fdb2-4244-e149-c449a61dde36",
        "colab": {
          "base_uri": "https://localhost:8080/",
          "height": 308
        }
      },
      "source": [
        "# open 리스트\n",
        "s = State(puzzle, goal)\n",
        "open_queue = [ ]\n",
        "open_queue.append(State(puzzle, goal))\n",
        "\n",
        "while len(open_queue) != 0:\n",
        "  \n",
        "  current = open_queue.pop(0)\n",
        "  print(current)\n",
        "  if current.board == goal:\n",
        "      print(\"탐색 성공\")\n",
        "      break\n",
        "  h_val = current\n",
        "  next_state = False\n",
        "  for state in current.expand(s.moves):\n",
        "    h_val_next = state\n",
        "    if h_val_next < h_val:\n",
        "      next_state = state\n",
        "      h_val = h_val_next\n",
        "      open_queue.append(next_state)\n",
        "      break\n",
        "\n",
        "  else:\n",
        "    print ('탐색 실패')"
      ],
      "execution_count": 17,
      "outputs": [
        {
          "output_type": "stream",
          "text": [
            "------------------ h(n)=4\n",
            "[1, 4, 3]\n",
            "[2, 0, 6]\n",
            "[7, 5, 8]\n",
            "------------------\n",
            "------------------ h(n)=3\n",
            "[1, 4, 3]\n",
            "[2, 5, 6]\n",
            "[7, 0, 8]\n",
            "------------------\n",
            "------------------ h(n)=2\n",
            "[1, 4, 3]\n",
            "[2, 5, 6]\n",
            "[7, 8, 0]\n",
            "------------------\n",
            "탐색 실패\n"
          ],
          "name": "stdout"
        }
      ]
    },
    {
      "cell_type": "code",
      "metadata": {
        "id": "dolpuf8udNE2"
      },
      "source": [
        ""
      ],
      "execution_count": null,
      "outputs": []
    }
  ]
}